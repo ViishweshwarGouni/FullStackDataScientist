{
 "cells": [
  {
   "cell_type": "code",
   "execution_count": 3,
   "id": "694a5d6a",
   "metadata": {},
   "outputs": [
    {
     "name": "stdout",
     "output_type": "stream",
     "text": [
      "[2, 3, 5, 7, 11, 13, 17, 19]\n"
     ]
    }
   ],
   "source": [
    "def isPrime(n):\n",
    "    p=[]\n",
    "    for num in range(2,n+1):\n",
    "        is_prime=True\n",
    "        for i in range(2,int(num**0.5)+1):\n",
    "            if num%i==0:\n",
    "                is_prime=False\n",
    "                break\n",
    "        if is_prime:\n",
    "            p.append(num)\n",
    "    return p\n",
    "n=int(input())\n",
    "print(isPrime(n))\n",
    "\n"
   ]
  },
  {
   "cell_type": "code",
   "execution_count": 4,
   "id": "e65bf539",
   "metadata": {},
   "outputs": [
    {
     "name": "stdout",
     "output_type": "stream",
     "text": [
      "Palindrome\n"
     ]
    }
   ],
   "source": [
    "str1=input(\"Enter a string: \").replace(\" \",\"\").lower()\n",
    "pal=str1[::-1]\n",
    "if str1==pal:\n",
    "    print(\"Palindrome\")\n",
    "else:\n",
    "    print(\"Not a Palindrome\")"
   ]
  },
  {
   "cell_type": "code",
   "execution_count": 6,
   "id": "41b2966f",
   "metadata": {},
   "outputs": [
    {
     "name": "stdout",
     "output_type": "stream",
     "text": [
      "True\n"
     ]
    }
   ],
   "source": [
    "a,b=map(str,input().split())\n",
    "c=1\n",
    "for i in a:\n",
    "    if i in b:\n",
    "        c+=1\n",
    "if c==len(a)+1:\n",
    "    print(\"True\")\n",
    "else:\n",
    "    print(\"False\")\n"
   ]
  },
  {
   "cell_type": "code",
   "execution_count": 8,
   "id": "e9c803fe",
   "metadata": {},
   "outputs": [
    {
     "name": "stdout",
     "output_type": "stream",
     "text": [
      "(2, 3)\n"
     ]
    }
   ],
   "source": [
    "def count(str1):\n",
    "    vov=['a','e','i','o','u']\n",
    "    v=0\n",
    "    c=0\n",
    "    for i in str1:\n",
    "        if i in vov:\n",
    "            v+=1\n",
    "        else:\n",
    "            c+=1\n",
    "    return v,c\n",
    "str1=input().lower()\n",
    "print(count(str1))\n"
   ]
  },
  {
   "cell_type": "code",
   "execution_count": 13,
   "id": "5fef655a",
   "metadata": {},
   "outputs": [
    {
     "name": "stdout",
     "output_type": "stream",
     "text": [
      "amazing\n"
     ]
    }
   ],
   "source": [
    "def longest_Word(sent):\n",
    "    max=\"\"\n",
    "    for word in sent:\n",
    "        if len(word)>len(max):\n",
    "            max=word\n",
    "    return word\n",
    "sent=input().split()\n",
    "print(longest_Word(sent))\n",
    "\n",
    "        "
   ]
  },
  {
   "cell_type": "code",
   "execution_count": 16,
   "id": "9dc0656f",
   "metadata": {},
   "outputs": [
    {
     "name": "stdout",
     "output_type": "stream",
     "text": [
      "uqY!i6\n"
     ]
    }
   ],
   "source": [
    "import random\n",
    "import string\n",
    "\n",
    "def generate_password(length):\n",
    "    chars= string.ascii_letters + string.digits + string.punctuation\n",
    "    pas=''.join(random.choice(chars) for _ in range(length))\n",
    "    return pas\n",
    "length = int(input(\"Enter password length: \"))\n",
    "print(generate_password(length))\n"
   ]
  },
  {
   "cell_type": "code",
   "execution_count": 21,
   "id": "1e530a54",
   "metadata": {},
   "outputs": [
    {
     "name": "stdout",
     "output_type": "stream",
     "text": [
      "5.0\n"
     ]
    }
   ],
   "source": [
    "import math\n",
    "def clci(x):\n",
    "    w=x.split(\"(\")\n",
    "    x=int(w[1][:-1])\n",
    "    if w[0]==\"sqrt\":\n",
    "        return math.sqrt(x)\n",
    "    elif w[0]==\"fact\":\n",
    "        return math.factorial(x)\n",
    "    elif w[0]==\"sin\":\n",
    "        return math.sin(math.radians(x))\n",
    "x=input(\"enter the operation and operand within the brackets:\")\n",
    "print(clci(x))"
   ]
  },
  {
   "cell_type": "code",
   "execution_count": 22,
   "id": "50442fcf",
   "metadata": {},
   "outputs": [
    {
     "name": "stdout",
     "output_type": "stream",
     "text": [
      "Counter({'cat': 2, 'dog': 1})\n"
     ]
    }
   ],
   "source": [
    "from collections import Counter\n",
    "def char_count(str1):\n",
    "    return Counter(str1)    \n",
    "str1=input(\"Enter a string: \").split()\n",
    "print(char_count(str1))\n",
    "     "
   ]
  },
  {
   "cell_type": "code",
   "execution_count": 26,
   "id": "e2610a94",
   "metadata": {},
   "outputs": [
    {
     "name": "stdout",
     "output_type": "stream",
     "text": [
      "Weather= Cloudy ,Temperature= 37 °C\n"
     ]
    }
   ],
   "source": [
    "import random\n",
    "def weth():\n",
    "    cond=[\"Sunny\",\"Rainy\",\"Cloudy\"]\n",
    "    n=random.randint(20,40)   \n",
    "    c=random.choice(cond)\n",
    "    print(\"Weather=\",random.choice(cond),\",Temperature=\",n,\"°C\")\n",
    "weth()\n",
    "\n"
   ]
  },
  {
   "cell_type": "code",
   "execution_count": null,
   "id": "6b9c3f43",
   "metadata": {},
   "outputs": [],
   "source": []
  },
  {
   "cell_type": "code",
   "execution_count": 1,
   "id": "7877ec0b",
   "metadata": {},
   "outputs": [
    {
     "name": "stdout",
     "output_type": "stream",
     "text": [
      "0\n",
      "1\n",
      "1\n",
      "2\n",
      "3\n"
     ]
    }
   ],
   "source": [
    "def fib(n):\n",
    "    a=0\n",
    "    b=1\n",
    "    if n==1:\n",
    "        print(a)\n",
    "    else:\n",
    "        print(a)\n",
    "        print(b)\n",
    "        for i in range(2,n):\n",
    "            c=a+b\n",
    "            print(c)\n",
    "            a=b\n",
    "            b=c\n",
    "n=int(input(\"Enter the number of terms: \"))\n",
    "fib(n)"
   ]
  },
  {
   "cell_type": "code",
   "execution_count": 2,
   "id": "57eb3c63",
   "metadata": {},
   "outputs": [
    {
     "name": "stdout",
     "output_type": "stream",
     "text": [
      "120\n"
     ]
    }
   ],
   "source": [
    "def fact(n):\n",
    "    if n==0 or n==1:\n",
    "        return 1\n",
    "    else:\n",
    "        return n*fact(n-1)\n",
    "n=int(input())\n",
    "print(fact(n))"
   ]
  },
  {
   "cell_type": "code",
   "execution_count": 3,
   "id": "834f7e80",
   "metadata": {},
   "outputs": [
    {
     "name": "stdout",
     "output_type": "stream",
     "text": [
      "Counter({'apple': 2, 'banana': 2, 'orange': 1})\n"
     ]
    }
   ],
   "source": [
    "from collections import Counter\n",
    "def words_counter(sent):\n",
    "    words=sent.split()\n",
    "    return Counter(words)\n",
    "sent=input(\"Enter a sentence: \")\n",
    "print(words_counter(sent))"
   ]
  },
  {
   "cell_type": "code",
   "execution_count": 15,
   "id": "43bbcc6b",
   "metadata": {},
   "outputs": [
    {
     "name": "stdout",
     "output_type": "stream",
     "text": [
      " the secong lagrest number from the list [1, 2, 3, 4] is 4\n"
     ]
    }
   ],
   "source": [
    "l=list(map(int,input().split()))\n",
    "L=l\n",
    "l.remove(max(l))\n",
    "print(f\" the secong lagrest number from the list {L} is {max(l)}\")"
   ]
  },
  {
   "cell_type": "code",
   "execution_count": 16,
   "id": "74019379",
   "metadata": {},
   "outputs": [
    {
     "name": "stdout",
     "output_type": "stream",
     "text": [
      "Text files: 0\n",
      "Python files: 0\n"
     ]
    }
   ],
   "source": [
    "import os\n",
    "\n",
    "def count_files():\n",
    "    txt_count = 0\n",
    "    py_count = 0\n",
    "    for file in os.listdir('.'):\n",
    "        if file.endswith('.txt'):\n",
    "            txt_count += 1\n",
    "        elif file.endswith('.py'):\n",
    "            py_count += 1\n",
    "\n",
    "    print(f\"Text files: {txt_count}\")\n",
    "    print(f\"Python files: {py_count}\")\n",
    "\n",
    "count_files()\n"
   ]
  },
  {
   "cell_type": "code",
   "execution_count": 17,
   "id": "37b0c6a7",
   "metadata": {},
   "outputs": [
    {
     "name": "stdout",
     "output_type": "stream",
     "text": [
      "Mean: 102.14285714285714\n",
      "Median: 90\n",
      "Mode: 90\n"
     ]
    }
   ],
   "source": [
    "import statistics as stats\n",
    "scores=list(map(int,input().split()))\n",
    "print(\"Mean:\",stats.mean(scores))               \n",
    "print(\"Median:\",stats.median(scores))\n",
    "print(\"Mode:\",stats.mode(scores))   \n"
   ]
  },
  {
   "cell_type": "code",
   "execution_count": 18,
   "id": "ef4f06f8",
   "metadata": {},
   "outputs": [
    {
     "name": "stdout",
     "output_type": "stream",
     "text": [
      "(2.0, 1.0)\n"
     ]
    }
   ],
   "source": [
    "import math\n",
    "def quadratic(a,b,c):\n",
    "    d=b**2-4*a*c\n",
    "    if d>0:\n",
    "        r1=(-b+math.sqrt(d))/(2*a)\n",
    "        r2=(-b-math.sqrt(d))/(2*a)\n",
    "        return r1,r2\n",
    "    elif d==0:\n",
    "        r=-b/(2*a)\n",
    "        return r\n",
    "    else:\n",
    "        return \"No real roots\"\n",
    "a,b,c=map(int,input().split())\n",
    "print(quadratic(a,b,c))"
   ]
  },
  {
   "cell_type": "code",
   "execution_count": 21,
   "id": "4114d52d",
   "metadata": {},
   "outputs": [
    {
     "name": "stdout",
     "output_type": "stream",
     "text": [
      "Computer chose: rock\n",
      "It's a tie!\n"
     ]
    }
   ],
   "source": [
    "import random\n",
    "def rps():\n",
    "    choices = ['rock', 'paper', 'scissors']\n",
    "    user_choice = input(\"Enter rock, paper, or scissors: \").lower() \n",
    "    computer_choice = random.choice(choices)\n",
    "    print(f\"Computer chose: {computer_choice}\")\n",
    "    \n",
    "    if user_choice == computer_choice:\n",
    "        return \"It's a tie!\"\n",
    "    elif (user_choice == 'rock' and computer_choice == 'scissors') or \\\n",
    "         (user_choice == 'paper' and computer_choice == 'rock') or \\\n",
    "         (user_choice == 'scissors' and computer_choice == 'paper'):\n",
    "        return \"You win!\"\n",
    "    else:\n",
    "        return \"Computer wins!\"\n",
    "print(rps())"
   ]
  },
  {
   "cell_type": "code",
   "execution_count": null,
   "id": "682ce482",
   "metadata": {},
   "outputs": [],
   "source": [
    "\n"
   ]
  }
 ],
 "metadata": {
  "kernelspec": {
   "display_name": "base",
   "language": "python",
   "name": "python3"
  },
  "language_info": {
   "codemirror_mode": {
    "name": "ipython",
    "version": 3
   },
   "file_extension": ".py",
   "mimetype": "text/x-python",
   "name": "python",
   "nbconvert_exporter": "python",
   "pygments_lexer": "ipython3",
   "version": "3.13.5"
  }
 },
 "nbformat": 4,
 "nbformat_minor": 5
}
