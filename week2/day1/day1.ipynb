{
 "cells": [
  {
   "cell_type": "code",
   "execution_count": 3,
   "id": "694a5d6a",
   "metadata": {},
   "outputs": [
    {
     "name": "stdout",
     "output_type": "stream",
     "text": [
      "[2, 3, 5, 7, 11, 13, 17, 19]\n"
     ]
    }
   ],
   "source": [
    "def isPrime(n):\n",
    "    p=[]\n",
    "    for num in range(2,n+1):\n",
    "        is_prime=True\n",
    "        for i in range(2,int(num**0.5)+1):\n",
    "            if num%i==0:\n",
    "                is_prime=False\n",
    "                break\n",
    "        if is_prime:\n",
    "            p.append(num)\n",
    "    return p\n",
    "n=int(input())\n",
    "print(isPrime(n))\n",
    "\n"
   ]
  },
  {
   "cell_type": "code",
   "execution_count": 4,
   "id": "e65bf539",
   "metadata": {},
   "outputs": [
    {
     "name": "stdout",
     "output_type": "stream",
     "text": [
      "Palindrome\n"
     ]
    }
   ],
   "source": [
    "str1=input(\"Enter a string: \").replace(\" \",\"\").lower()\n",
    "pal=str1[::-1]\n",
    "if str1==pal:\n",
    "    print(\"Palindrome\")\n",
    "else:\n",
    "    print(\"Not a Palindrome\")"
   ]
  },
  {
   "cell_type": "code",
   "execution_count": 6,
   "id": "41b2966f",
   "metadata": {},
   "outputs": [
    {
     "name": "stdout",
     "output_type": "stream",
     "text": [
      "True\n"
     ]
    }
   ],
   "source": [
    "a,b=map(str,input().split())\n",
    "c=1\n",
    "for i in a:\n",
    "    if i in b:\n",
    "        c+=1\n",
    "if c==len(a)+1:\n",
    "    print(\"True\")\n",
    "else:\n",
    "    print(\"False\")\n"
   ]
  },
  {
   "cell_type": "code",
   "execution_count": 8,
   "id": "e9c803fe",
   "metadata": {},
   "outputs": [
    {
     "name": "stdout",
     "output_type": "stream",
     "text": [
      "(2, 3)\n"
     ]
    }
   ],
   "source": [
    "def count(str1):\n",
    "    vov=['a','e','i','o','u']\n",
    "    v=0\n",
    "    c=0\n",
    "    for i in str1:\n",
    "        if i in vov:\n",
    "            v+=1\n",
    "        else:\n",
    "            c+=1\n",
    "    return v,c\n",
    "str1=input().lower()\n",
    "print(count(str1))\n"
   ]
  },
  {
   "cell_type": "code",
   "execution_count": 13,
   "id": "5fef655a",
   "metadata": {},
   "outputs": [
    {
     "name": "stdout",
     "output_type": "stream",
     "text": [
      "amazing\n"
     ]
    }
   ],
   "source": [
    "def longest_Word(sent):\n",
    "    max=\"\"\n",
    "    for word in sent:\n",
    "        if len(word)>len(max):\n",
    "            max=word\n",
    "    return word\n",
    "sent=input().split()\n",
    "print(longest_Word(sent))\n",
    "\n",
    "        "
   ]
  },
  {
   "cell_type": "code",
   "execution_count": 16,
   "id": "9dc0656f",
   "metadata": {},
   "outputs": [
    {
     "name": "stdout",
     "output_type": "stream",
     "text": [
      "uqY!i6\n"
     ]
    }
   ],
   "source": [
    "import random\n",
    "import string\n",
    "\n",
    "def generate_password(length):\n",
    "    chars= string.ascii_letters + string.digits + string.punctuation\n",
    "    pas=''.join(random.choice(chars) for _ in range(length))\n",
    "    return pas\n",
    "length = int(input(\"Enter password length: \"))\n",
    "print(generate_password(length))\n"
   ]
  },
  {
   "cell_type": "code",
   "execution_count": 21,
   "id": "1e530a54",
   "metadata": {},
   "outputs": [
    {
     "name": "stdout",
     "output_type": "stream",
     "text": [
      "5.0\n"
     ]
    }
   ],
   "source": [
    "import math\n",
    "def clci(x):\n",
    "    w=x.split(\"(\")\n",
    "    x=int(w[1][:-1])\n",
    "    if w[0]==\"sqrt\":\n",
    "        return math.sqrt(x)\n",
    "    elif w[0]==\"fact\":\n",
    "        return math.factorial(x)\n",
    "    elif w[0]==\"sin\":\n",
    "        return math.sin(math.radians(x))\n",
    "x=input(\"enter the operation and operand within the brackets:\")\n",
    "print(clci(x))"
   ]
  },
  {
   "cell_type": "code",
   "execution_count": 22,
   "id": "50442fcf",
   "metadata": {},
   "outputs": [
    {
     "name": "stdout",
     "output_type": "stream",
     "text": [
      "Counter({'cat': 2, 'dog': 1})\n"
     ]
    }
   ],
   "source": [
    "from collections import Counter\n",
    "def char_count(str1):\n",
    "    return Counter(str1)    \n",
    "str1=input(\"Enter a string: \").split()\n",
    "print(char_count(str1))\n",
    "     "
   ]
  },
  {
   "cell_type": "code",
   "execution_count": 26,
   "id": "e2610a94",
   "metadata": {},
   "outputs": [
    {
     "name": "stdout",
     "output_type": "stream",
     "text": [
      "Weather= Cloudy ,Temperature= 37 °C\n"
     ]
    }
   ],
   "source": [
    "import random\n",
    "def weth():\n",
    "    cond=[\"Sunny\",\"Rainy\",\"Cloudy\"]\n",
    "    n=random.randint(20,40)   \n",
    "    c=random.choice(cond)\n",
    "    print(\"Weather=\",random.choice(cond),\",Temperature=\",n,\"°C\")\n",
    "weth()\n",
    "\n"
   ]
  },
  {
   "cell_type": "code",
   "execution_count": null,
   "id": "6b9c3f43",
   "metadata": {},
   "outputs": [],
   "source": []
  },
  {
   "cell_type": "code",
   "execution_count": null,
   "id": "7877ec0b",
   "metadata": {},
   "outputs": [],
   "source": []
  }
 ],
 "metadata": {
  "kernelspec": {
   "display_name": "base",
   "language": "python",
   "name": "python3"
  },
  "language_info": {
   "codemirror_mode": {
    "name": "ipython",
    "version": 3
   },
   "file_extension": ".py",
   "mimetype": "text/x-python",
   "name": "python",
   "nbconvert_exporter": "python",
   "pygments_lexer": "ipython3",
   "version": "3.13.5"
  }
 },
 "nbformat": 4,
 "nbformat_minor": 5
}
