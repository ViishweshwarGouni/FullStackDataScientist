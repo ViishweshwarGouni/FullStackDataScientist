{
 "cells": [
  {
   "cell_type": "code",
   "execution_count": 1,
   "id": "db30a78a",
   "metadata": {},
   "outputs": [
    {
     "name": "stdout",
     "output_type": "stream",
     "text": [
      "Valid Password\n"
     ]
    }
   ],
   "source": [
    "def check_Password(password):\n",
    "    if len(password) < 8:\n",
    "        return False\n",
    "    if not any(char.isdigit() for char in password):\n",
    "        return False\n",
    "    if not any(char.isupper() for char in password):\n",
    "        return False\n",
    "    if not any(char.islower() for char in password):\n",
    "        return False\n",
    "    if not any(char in '!@#$%^&*()-_+=' for char in password):\n",
    "        return False\n",
    "    return True\n",
    "password=input(\"Enter your password: \")\n",
    "if check_Password(password):\n",
    "    print(\"Valid Password\")\n",
    "else:\n",
    "    print(\"Invalid Password\")"
   ]
  },
  {
   "cell_type": "code",
   "execution_count": 4,
   "id": "662175f4",
   "metadata": {},
   "outputs": [
    {
     "name": "stdout",
     "output_type": "stream",
     "text": [
      "Result: 25\n"
     ]
    }
   ],
   "source": [
    "def calculator(a,b,op):\n",
    "    if op=='+':\n",
    "        return a+b\n",
    "    if op=='-':\n",
    "        return a-b\n",
    "    if op=='*':\n",
    "        return a*b\n",
    "    if op=='/':\n",
    "        return a/b\n",
    "    return \"Invalid operation\"\n",
    "a,b=map(int,input(\"Enter two numbers: \").split())\n",
    "op=input(\"Enter operation (+, -, *, /): \")\n",
    "print(\"Result:\", calculator(a,b,op))\n",
    "    "
   ]
  },
  {
   "cell_type": "code",
   "execution_count": 7,
   "id": "4c20f3bb",
   "metadata": {},
   "outputs": [
    {
     "name": "stdout",
     "output_type": "stream",
     "text": [
      "['a', 'b', 'a']\n"
     ]
    }
   ],
   "source": [
    "def duplicates(l):\n",
    "    s=set()\n",
    "    l1=[]\n",
    "    for i in l:\n",
    "        if i not in s:\n",
    "            s.add(i)\n",
    "        else:\n",
    "            l1.append(i)\n",
    "    return l1\n",
    "l=list(map(str,input().split()))\n",
    "print(duplicates(l))\n",
    "        \n"
   ]
  },
  {
   "cell_type": "code",
   "execution_count": 3,
   "id": "6d946045",
   "metadata": {},
   "outputs": [
    {
     "name": "stdout",
     "output_type": "stream",
     "text": [
      "temperature in celcius= 0.0 *c\n",
      "temperature infahrenhiet=  89.6\n"
     ]
    }
   ],
   "source": [
    "def C_F(temp):\n",
    "    return (temp*9/5)+32\n",
    "def f_C(temp):\n",
    "    return (temp- 32)*5/9\n",
    "c=int(input())\n",
    "f=int(input())\n",
    "print(\"temperature in celcius=\",f_C(f),\"*c\")\n",
    "print(\"temperature infahrenhiet= \",C_F(c))\n",
    "\n",
    "\n"
   ]
  },
  {
   "cell_type": "code",
   "execution_count": 7,
   "id": "efa2f61f",
   "metadata": {},
   "outputs": [
    {
     "name": "stdout",
     "output_type": "stream",
     "text": [
      "largest number from [12, 4, 5, 17, 9]is 17\n"
     ]
    }
   ],
   "source": [
    "l=list(map(int,input().split()))\n",
    "print(f\"largest number from {l}is {max(l)}\")"
   ]
  },
  {
   "cell_type": "code",
   "execution_count": 8,
   "id": "803aeac2",
   "metadata": {},
   "outputs": [
    {
     "name": "stdout",
     "output_type": "stream",
     "text": [
      "120.0\n"
     ]
    }
   ],
   "source": [
    "def si(p,t,r):\n",
    "    return (p*t*r)/100\n",
    "p,t,r=map(int,input().split())\n",
    "print(si(p,t,r))"
   ]
  },
  {
   "cell_type": "code",
   "execution_count": 9,
   "id": "8f66cf77",
   "metadata": {},
   "outputs": [
    {
     "name": "stdout",
     "output_type": "stream",
     "text": [
      "defaulters= ['cccc', 'dddd', 'eeee']\n"
     ]
    }
   ],
   "source": [
    "def defaulters(d):\n",
    "    return [key for key,value in d.items() if value<=75]\n",
    "d={\"aaaa\":89,\"cccc\":43,\"dddd\":75,\"eeee\":69}\n",
    "print(\"defaulters=\",defaulters(d))"
   ]
  },
  {
   "cell_type": "code",
   "execution_count": 12,
   "id": "d4fe8bc7",
   "metadata": {},
   "outputs": [
    {
     "name": "stdout",
     "output_type": "stream",
     "text": [
      "sum of digits in 1234 is 10\n"
     ]
    }
   ],
   "source": [
    "def digit_sum(n):\n",
    "    s=0\n",
    "    while n!=0:\n",
    "        r=n%10\n",
    "        s+=r\n",
    "        n=n//10\n",
    "    return s\n",
    "n=int(input())\n",
    "print(f\"sum of digits in {n} is {digit_sum(n)}\")\n"
   ]
  },
  {
   "cell_type": "code",
   "execution_count": 13,
   "id": "1dc8b65c",
   "metadata": {},
   "outputs": [
    {
     "name": "stdout",
     "output_type": "stream",
     "text": [
      "23 is prime number\n"
     ]
    }
   ],
   "source": [
    "def is_Prime(n):\n",
    "    for i in range(2,int(n**0.5)):\n",
    "        if n%i==0:\n",
    "            return False\n",
    "    return True\n",
    "n=int(input(\"Enter the number:\"))\n",
    "if is_Prime(n):\n",
    "    print(f\"{n} is prime number\")\n",
    "else:\n",
    "    print(f\"{n} is not a prime number\")"
   ]
  },
  {
   "cell_type": "code",
   "execution_count": 14,
   "id": "ecd2afe9",
   "metadata": {},
   "outputs": [
    {
     "name": "stdout",
     "output_type": "stream",
     "text": [
      "smallest number from [0, 14, 3, 10, 7, 9]is 0\n",
      "largest number from [0, 14, 3, 10, 7, 9]is 14\n"
     ]
    }
   ],
   "source": [
    "l=list(map(int,input().split()))\n",
    "print(f\"smallest number from {l}is {min(l)}\")\n",
    "print(f\"largest number from {l}is {max(l)}\")"
   ]
  },
  {
   "cell_type": "code",
   "execution_count": 15,
   "id": "eb82b863",
   "metadata": {},
   "outputs": [
    {
     "name": "stdout",
     "output_type": "stream",
     "text": [
      "maximum for (5, 9, 100)is 100\n"
     ]
    }
   ],
   "source": [
    "a,b,c=map(int,input().split())\n",
    "print(f\"maximum for {a,b,c}is {max(a,b,c)}\")"
   ]
  },
  {
   "cell_type": "code",
   "execution_count": 16,
   "id": "cdc8a45d",
   "metadata": {},
   "outputs": [
    {
     "name": "stdout",
     "output_type": "stream",
     "text": [
      "{'v': 1, 'i': 2, 's': 2, 'h': 2, 'w': 2, 'e': 1, 'a': 1, 'r': 1}\n"
     ]
    }
   ],
   "source": [
    "def counting(word):\n",
    "    d={}\n",
    "    for i in word:\n",
    "        if i in d:\n",
    "            d[i]+=1\n",
    "        else:\n",
    "            d[i]=1\n",
    "    return d\n",
    "word=input()\n",
    "print(counting(word))"
   ]
  },
  {
   "cell_type": "code",
   "execution_count": 17,
   "id": "8292b0e0",
   "metadata": {},
   "outputs": [
    {
     "name": "stdout",
     "output_type": "stream",
     "text": [
      "Current bill is  1302\n"
     ]
    }
   ],
   "source": [
    "def bill(units):\n",
    "    if units<=100:\n",
    "        return units*5\n",
    "    elif units>100 and units<200:\n",
    "        return units*7\n",
    "    else:\n",
    "        return units*10\n",
    "units=int(input())\n",
    "print(\"Current bill is \",bill(units))\n",
    "\n",
    "    "
   ]
  },
  {
   "cell_type": "code",
   "execution_count": 20,
   "id": "a15b30cf",
   "metadata": {},
   "outputs": [
    {
     "name": "stdout",
     "output_type": "stream",
     "text": [
      "original students list ['ram', 'sita', 'radha', 'krishna'] sorted students list ['krishna', 'radha', 'ram', 'sita'] \n"
     ]
    }
   ],
   "source": [
    "l=list(map(str,input().split()))\n",
    "print(f\"original students list {l} sorted students list {sorted(l)} \")"
   ]
  },
  {
   "cell_type": "code",
   "execution_count": 22,
   "id": "c1a3c7f3",
   "metadata": {},
   "outputs": [
    {
     "name": "stdout",
     "output_type": "stream",
     "text": [
      "4321\n"
     ]
    }
   ],
   "source": [
    "def reversing(number):\n",
    "    number=str(number)\n",
    "    return number[::-1]\n",
    "number=int(input())\n",
    "print(reversing(number))\n"
   ]
  },
  {
   "cell_type": "code",
   "execution_count": 25,
   "id": "287399b0",
   "metadata": {},
   "outputs": [
    {
     "name": "stdout",
     "output_type": "stream",
     "text": [
      "no of positive,negative,zeros= (4, 2, 7)\n"
     ]
    }
   ],
   "source": [
    "def find(l):\n",
    "    p=0\n",
    "    n=0\n",
    "    z=0\n",
    "    for i in l:\n",
    "        if i<0:\n",
    "            n+=1\n",
    "        if i>0:\n",
    "            p+=1\n",
    "        else:\n",
    "            z+=1\n",
    "    return n,p,z\n",
    "l=list(map(int,input().split()))\n",
    "print(\"no of positive,negative,zeros=\",find(l))\n"
   ]
  },
  {
   "cell_type": "code",
   "execution_count": 27,
   "id": "b7c4ddea",
   "metadata": {},
   "outputs": [
    {
     "name": "stdout",
     "output_type": "stream",
     "text": [
      "cannot divide with zero ender non zero number\n"
     ]
    }
   ],
   "source": [
    "def division(a,b):\n",
    "    try:\n",
    "        z=a/b\n",
    "    except ZeroDivisionError:\n",
    "        print(\"cannot divide with zero ender non zero number\")\n",
    "    else:\n",
    "        print(f\"division of {a,b} is {z}\")\n",
    "a,b=map(int,input().split())\n",
    "division(a,b)\n"
   ]
  },
  {
   "cell_type": "code",
   "execution_count": 29,
   "id": "e0950866",
   "metadata": {},
   "outputs": [
    {
     "name": "stdout",
     "output_type": "stream",
     "text": [
      "division of (12, 4) is 3.0\n"
     ]
    }
   ],
   "source": [
    "def division(a,b):\n",
    "    try:\n",
    "        z=a/b\n",
    "    except ValueError:\n",
    "        print(\"Enter valid input\")\n",
    "    except ZeroDivisionError:\n",
    "        print(\"cannot divide with zero\")\n",
    "    else:\n",
    "        print(f\"division of {a,b} is {z}\")\n",
    "a,b=map(int,input().split())\n",
    "division(a,b)"
   ]
  },
  {
   "cell_type": "code",
   "execution_count": 31,
   "id": "60e0c0fd",
   "metadata": {},
   "outputs": [
    {
     "name": "stdout",
     "output_type": "stream",
     "text": [
      "Enter the sufficent amount\n",
      "thanks for ur support\n"
     ]
    }
   ],
   "source": [
    "def withdrawl(w,b):\n",
    "    try:\n",
    "        if w>b:\n",
    "            raise ValueError(\"Enter the sufficent amount\")\n",
    "        else:\n",
    "            b-=w\n",
    "    except ValueError as e:\n",
    "        print(e)\n",
    "    else:\n",
    "        print(\"balance amount after the withdraw\",b)\n",
    "    finally:\n",
    "        print(\"thanks for ur support\")\n",
    "w,b=map(int,input().split())\n",
    "withdrawl(w,b)\n",
    "\n",
    "    "
   ]
  },
  {
   "cell_type": "code",
   "execution_count": 32,
   "id": "a8f87775",
   "metadata": {},
   "outputs": [
    {
     "name": "stdout",
     "output_type": "stream",
     "text": [
      "bill: 100\n",
      "Bill processing finished\n",
      "bill: 850\n",
      "Bill processing finished\n",
      "bill: 42000\n",
      "Bill processing finished\n",
      "enter units in integer\n",
      "Bill processing finished\n"
     ]
    }
   ],
   "source": [
    "def billing(u):\n",
    "    o=0\n",
    "    try:\n",
    "        u=int(u)\n",
    "        if u<=100:\n",
    "            o=u*5\n",
    "        elif u>100 and u<=200:\n",
    "            o=(100*5)+(u-100)*7\n",
    "        elif u>200:\n",
    "            o=200*u\n",
    "    except ValueError:\n",
    "        print(\"enter units in integer\")\n",
    "    except TypeError:\n",
    "        print(\"enter valid input\")\n",
    "    else:\n",
    "        print(\"bill:\",o)\n",
    "    finally:\n",
    "        print(\"Bill processing finished\")\n",
    "billing(20)\n",
    "billing(150)\n",
    "billing(210)\n",
    "billing('ad')"
   ]
  },
  {
   "cell_type": "code",
   "execution_count": null,
   "id": "80f20022",
   "metadata": {},
   "outputs": [],
   "source": []
  }
 ],
 "metadata": {
  "kernelspec": {
   "display_name": "base",
   "language": "python",
   "name": "python3"
  },
  "language_info": {
   "codemirror_mode": {
    "name": "ipython",
    "version": 3
   },
   "file_extension": ".py",
   "mimetype": "text/x-python",
   "name": "python",
   "nbconvert_exporter": "python",
   "pygments_lexer": "ipython3",
   "version": "3.13.5"
  }
 },
 "nbformat": 4,
 "nbformat_minor": 5
}
