{
 "cells": [
  {
   "cell_type": "code",
   "execution_count": 4,
   "id": "41f8a864",
   "metadata": {},
   "outputs": [
    {
     "name": "stdout",
     "output_type": "stream",
     "text": [
      "Total words= 3\n",
      "Total charecters= 15\n",
      "Total vowels= 6\n"
     ]
    }
   ],
   "source": [
    "sent=input(\"Enter sentence:\").split()\n",
    "w=0\n",
    "c=0\n",
    "v=0\n",
    "vov=['a','e','i','o','u','A','E','I','O','U']\n",
    "for word in sent:\n",
    "    w+=1\n",
    "    for i in word:\n",
    "        c+=1\n",
    "        if i in vov:\n",
    "            v+=1\n",
    "print(\"Total words=\",w)\n",
    "print(\"Total charecters=\",c)\n",
    "print(\"Total vowels=\",v)"
   ]
  },
  {
   "cell_type": "code",
   "execution_count": 7,
   "id": "ddc9f3a3",
   "metadata": {},
   "outputs": [
    {
     "name": "stdout",
     "output_type": "stream",
     "text": [
      "compound intrest= 512.5\n",
      "total amount= 5512.5\n"
     ]
    }
   ],
   "source": [
    "p=int(input(\"Principle:\"))\n",
    "r=int(input(\"Rate:\"))\n",
    "t=int(input(\"Time:\"))\n",
    "type=input(\"Enter type\")\n",
    "\n",
    "if type==\"simple\":\n",
    "    Si=(p*t*r)/100\n",
    "if type==\"compound\":\n",
    "    ci=p*(1+(r/100))**t-p\n",
    "    print(\"compound intrest=\",ci)\n",
    "    print(\"total amount=\",p+ci)\n",
    "\n"
   ]
  },
  {
   "cell_type": "markdown",
   "id": "e5905d92",
   "metadata": {},
   "source": []
  }
 ],
 "metadata": {
  "kernelspec": {
   "display_name": ".venv",
   "language": "python",
   "name": "python3"
  },
  "language_info": {
   "codemirror_mode": {
    "name": "ipython",
    "version": 3
   },
   "file_extension": ".py",
   "mimetype": "text/x-python",
   "name": "python",
   "nbconvert_exporter": "python",
   "pygments_lexer": "ipython3",
   "version": "3.11.8"
  }
 },
 "nbformat": 4,
 "nbformat_minor": 5
}
